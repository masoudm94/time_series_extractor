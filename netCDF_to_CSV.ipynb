{
  "cells": [
    {
      "cell_type": "code",
      "execution_count": 1,
      "id": "665dd4d5",
      "metadata": {
        "id": "665dd4d5"
      },
      "outputs": [],
      "source": [
        "# source : https://www.youtube.com/watch?v=hrm5RmsVXo0\n",
        "# Extracting time series data from a netCDF file into a CSV (Part 3)"
      ]
    },
    {
      "cell_type": "code",
      "execution_count": null,
      "id": "7c1bb344",
      "metadata": {
        "id": "7c1bb344"
      },
      "outputs": [],
      "source": [
        "from netCDF4 import Dataset\n",
        "import numpy as np\n",
        "import pandas as pd"
      ]
    },
    {
      "cell_type": "code",
      "execution_count": null,
      "id": "39b5338a",
      "metadata": {
        "id": "39b5338a"
      },
      "outputs": [],
      "source": [
        "# reading in the netCDF file\n",
        "data = Dataset(r'***.nc', 'r')\n",
        "data"
      ]
    },
    {
      "cell_type": "code",
      "execution_count": null,
      "id": "a8dadd67",
      "metadata": {
        "id": "a8dadd67"
      },
      "outputs": [],
      "source": [
        "# storing the lat and lon data into the variables\n",
        "lat = data.variables['lat'][:]\n",
        "lon = data.variables['lon'][:]"
      ]
    },
    {
      "cell_type": "code",
      "execution_count": null,
      "id": "54765ce2",
      "metadata": {
        "id": "54765ce2"
      },
      "outputs": [],
      "source": [
        "# storing the lat and lon data of location into the variables\n",
        "lat_location = 35.7480275\n",
        "lon_location = 50.9574065"
      ]
    },
    {
      "cell_type": "code",
      "execution_count": null,
      "id": "871ebc00",
      "metadata": {
        "id": "871ebc00"
      },
      "outputs": [],
      "source": [
        "# squared difference of lat and lon\n",
        "sq_diff_lat = (lat - lat_location)**2\n",
        "sq_diff_lon = (lon - lon_location)**2"
      ]
    },
    {
      "cell_type": "code",
      "execution_count": null,
      "id": "af04cdad",
      "metadata": {
        "id": "af04cdad"
      },
      "outputs": [],
      "source": [
        "# identifying the index of the minimum value for lat and lon\n",
        "min_index_lat = sq_diff_lat.argmin()\n",
        "min_index_lon = sq_diff_lon.argmin()"
      ]
    },
    {
      "cell_type": "code",
      "execution_count": null,
      "id": "76811c9e",
      "metadata": {
        "id": "76811c9e"
      },
      "outputs": [],
      "source": [
        "print(min_index_lat, min_index_lon)"
      ]
    },
    {
      "cell_type": "code",
      "execution_count": null,
      "id": "10e7acab",
      "metadata": {
        "id": "10e7acab"
      },
      "outputs": [],
      "source": [
        "# assigning names to variables to make it easier to work with\n",
        "cldarea_total_1h = data.variables['cldarea_total_1h']\n",
        "ini_sfc_sw_down_clr_1h = data.variables['ini_sfc_sw_down_clr_1h']\n",
        "ini_sfc_sw_down_all_1h = data.variables['ini_sfc_sw_down_all_1h']\n",
        "ini_sfc_sw_down_pri_1h = data.variables['ini_sfc_sw_down_pri_1h']\n",
        "ini_sfc_sw_down_naer_1h = data.variables['ini_sfc_sw_down_naer_1h']\n",
        "ini_precip_1h = data.variables['ini_precip_1h']\n",
        "ini_uth_1h = data.variables['ini_uth_1h']\n",
        "ini_albedo_1h = data.variables['ini_albedo_1h']\n",
        "ini_skint_1h = data.variables['ini_skint_1h']\n",
        "ini_aod55_1h = data.variables['ini_aod55_1h']\n",
        "ini_aod84_1h = data.variables['ini_aod84_1h']\n",
        "ini_surfpress_1h = data.variables['ini_surfpress_1h']\n",
        "ini_ozone_1h = data.variables['ini_ozone_1h']\n",
        "solar_zen_angle_1h = data.variables['solar_zen_angle_1h']\n",
        "sfc_elev_1h = data.variables['sfc_elev_1h']\n",
        "aux_ocean_1h = data.variables['aux_ocean_1h']\n",
        "aux_snow_1h = data.variables['aux_snow_1h']"
      ]
    },
    {
      "cell_type": "code",
      "execution_count": null,
      "id": "b41999e1",
      "metadata": {
        "id": "b41999e1"
      },
      "outputs": [],
      "source": [
        "# creating a pandas dataframe for date_range based on the name of .nc file\n",
        "# the name of that file was \"CERES_SYN1deg-1H_Terra-Aqua-MODIS_Ed4.1_Subset_20130101-20180304.nc\"\n",
        "date_range = pd.date_range(\n",
        "start = '2013-01-01 00:30:00',\n",
        "end = '2018-03-04 23:59:00',\n",
        "freq='1h')"
      ]
    },
    {
      "cell_type": "code",
      "execution_count": null,
      "id": "5d7f5679",
      "metadata": {
        "scrolled": true,
        "id": "5d7f5679"
      },
      "outputs": [],
      "source": [
        "# making sure that the range is correct\n",
        "date_range"
      ]
    },
    {
      "cell_type": "code",
      "execution_count": null,
      "id": "6f080018",
      "metadata": {
        "id": "6f080018"
      },
      "outputs": [],
      "source": [
        "# creating an empty pandas dataframe\n",
        "df = pd.DataFrame(0, columns = ['cldarea_total_1h',\n",
        "                                'ini_sfc_sw_down_clr_1h',\n",
        "                                'ini_sfc_sw_down_all_1h',\n",
        "                                'ini_sfc_sw_down_pri_1h',\n",
        "                                'ini_sfc_sw_down_naer_1h',\n",
        "                                'ini_precip_1h',\n",
        "                                'ini_uth_1h',\n",
        "                                'ini_albedo_1h',\n",
        "                                'ini_skint_1h',\n",
        "                                'ini_aod55_1h',\n",
        "                                'ini_aod84_1h',\n",
        "                                'ini_surfpress_1h',\n",
        "                                'ini_ozone_1h',\n",
        "                                'solar_zen_angle_1h',\n",
        "                                'sfc_elev_1h',\n",
        "                                'aux_ocean_1h',\n",
        "                                'aux_snow_1h'], index = date_range)"
      ]
    },
    {
      "cell_type": "code",
      "execution_count": null,
      "id": "8cc909a7",
      "metadata": {
        "id": "8cc909a7"
      },
      "outputs": [],
      "source": [
        "# making sure that the dataframe is correct\n",
        "df"
      ]
    },
    {
      "cell_type": "code",
      "execution_count": null,
      "id": "991a9674",
      "metadata": {
        "id": "991a9674"
      },
      "outputs": [],
      "source": [
        "# creating an array for time indexes from o to 45335\n",
        "# dimensions(sizes): time(45336), lon(28), lat(22)\n",
        "dt = np.arange(0, data.variables['time'].size)"
      ]
    },
    {
      "cell_type": "code",
      "execution_count": null,
      "id": "dc204af1",
      "metadata": {
        "id": "dc204af1"
      },
      "outputs": [],
      "source": [
        "# making sure that the array is correct\n",
        "dt"
      ]
    },
    {
      "cell_type": "code",
      "execution_count": null,
      "id": "862f30fb",
      "metadata": {
        "id": "862f30fb"
      },
      "outputs": [],
      "source": [
        "# creating a for loop to do some special tasks:\n",
        "#     1. storing the value of each of the parameters in specific cell of dataframe\n",
        "#     2. it does that one row by one row\n",
        "#     3. it takes more than 15 min, so don't get panicked\n",
        "\n",
        "\n",
        "for time_index in dt:\n",
        "    df['cldarea_total_1h'].iloc[time_index] = cldarea_total_1h[time_index, min_index_lat, min_index_lon]\n",
        "    df['ini_sfc_sw_down_clr_1h'].iloc[time_index] = ini_sfc_sw_down_clr_1h[time_index, min_index_lat, min_index_lon]\n",
        "    df['ini_sfc_sw_down_all_1h'].iloc[time_index] = ini_sfc_sw_down_all_1h[time_index, min_index_lat, min_index_lon]\n",
        "    df['ini_sfc_sw_down_pri_1h'].iloc[time_index] = ini_sfc_sw_down_pri_1h[time_index, min_index_lat, min_index_lon]\n",
        "    df['ini_sfc_sw_down_naer_1h'].iloc[time_index] = ini_sfc_sw_down_naer_1h[time_index, min_index_lat, min_index_lon]\n",
        "    df['ini_precip_1h'].iloc[time_index] = ini_precip_1h[time_index, min_index_lat, min_index_lon]\n",
        "    df['ini_uth_1h'].iloc[time_index] = ini_uth_1h[time_index, min_index_lat, min_index_lon]\n",
        "    df['ini_albedo_1h'].iloc[time_index] = ini_albedo_1h[time_index, min_index_lat, min_index_lon]\n",
        "    df['ini_skint_1h'].iloc[time_index] = ini_skint_1h[time_index, min_index_lat, min_index_lon]\n",
        "    df['ini_aod55_1h'].iloc[time_index] = ini_aod55_1h[time_index, min_index_lat, min_index_lon]\n",
        "    df['ini_aod84_1h'].iloc[time_index] = ini_aod84_1h[time_index, min_index_lat, min_index_lon]\n",
        "    df['ini_surfpress_1h'].iloc[time_index] = ini_surfpress_1h[time_index, min_index_lat, min_index_lon]\n",
        "    df['ini_ozone_1h'].iloc[time_index] = ini_ozone_1h[time_index, min_index_lat, min_index_lon]\n",
        "    df['solar_zen_angle_1h'].iloc[time_index] = solar_zen_angle_1h[time_index, min_index_lat, min_index_lon]\n",
        "    df['sfc_elev_1h'].iloc[time_index] = sfc_elev_1h[time_index, min_index_lat, min_index_lon]\n",
        "    df['aux_ocean_1h'].iloc[time_index] = aux_ocean_1h[time_index, min_index_lat, min_index_lon]\n",
        "    df['aux_snow_1h'].iloc[time_index] = aux_snow_1h[time_index, min_index_lat, min_index_lon]"
      ]
    },
    {
      "cell_type": "code",
      "execution_count": null,
      "id": "c89233ec",
      "metadata": {
        "id": "c89233ec"
      },
      "outputs": [],
      "source": [
        "df"
      ]
    },
    {
      "cell_type": "code",
      "execution_count": null,
      "id": "6e36f905",
      "metadata": {
        "id": "6e36f905"
      },
      "outputs": [],
      "source": [
        "# storing the dataframe to an .xlsx file which can be opened and modified in microsoft excel\n",
        "df.to_excel(r'***.xlsx', index = True)"
      ]
    },
    {
      "cell_type": "code",
      "execution_count": null,
      "id": "a3d923ed",
      "metadata": {
        "id": "a3d923ed"
      },
      "outputs": [],
      "source": []
    },
    {
      "cell_type": "code",
      "execution_count": null,
      "id": "814e7d6a",
      "metadata": {
        "id": "814e7d6a"
      },
      "outputs": [],
      "source": []
    },
    {
      "cell_type": "code",
      "execution_count": null,
      "id": "dbe6d05d",
      "metadata": {
        "id": "dbe6d05d"
      },
      "outputs": [],
      "source": []
    },
    {
      "cell_type": "code",
      "execution_count": null,
      "id": "6a70ff58",
      "metadata": {
        "id": "6a70ff58"
      },
      "outputs": [],
      "source": []
    },
    {
      "cell_type": "code",
      "execution_count": null,
      "id": "8109fdad",
      "metadata": {
        "id": "8109fdad"
      },
      "outputs": [],
      "source": []
    },
    {
      "cell_type": "code",
      "execution_count": null,
      "id": "5a7f07e5",
      "metadata": {
        "id": "5a7f07e5"
      },
      "outputs": [],
      "source": []
    },
    {
      "cell_type": "code",
      "execution_count": null,
      "id": "019164a0",
      "metadata": {
        "id": "019164a0"
      },
      "outputs": [],
      "source": []
    },
    {
      "cell_type": "code",
      "execution_count": null,
      "id": "c9ba518d",
      "metadata": {
        "id": "c9ba518d"
      },
      "outputs": [],
      "source": []
    },
    {
      "cell_type": "code",
      "execution_count": null,
      "id": "e130b659",
      "metadata": {
        "id": "e130b659"
      },
      "outputs": [],
      "source": []
    },
    {
      "cell_type": "code",
      "execution_count": null,
      "id": "72dda0d2",
      "metadata": {
        "id": "72dda0d2"
      },
      "outputs": [],
      "source": []
    },
    {
      "cell_type": "code",
      "execution_count": null,
      "id": "4f334c5f",
      "metadata": {
        "id": "4f334c5f"
      },
      "outputs": [],
      "source": []
    },
    {
      "cell_type": "code",
      "execution_count": null,
      "id": "384c6197",
      "metadata": {
        "id": "384c6197"
      },
      "outputs": [],
      "source": []
    },
    {
      "cell_type": "code",
      "execution_count": null,
      "id": "d19432ae",
      "metadata": {
        "id": "d19432ae"
      },
      "outputs": [],
      "source": []
    },
    {
      "cell_type": "code",
      "execution_count": null,
      "id": "527c4f06",
      "metadata": {
        "id": "527c4f06"
      },
      "outputs": [],
      "source": []
    },
    {
      "cell_type": "code",
      "execution_count": null,
      "id": "b9576a3f",
      "metadata": {
        "id": "b9576a3f"
      },
      "outputs": [],
      "source": []
    },
    {
      "cell_type": "code",
      "execution_count": null,
      "id": "02295a8a",
      "metadata": {
        "id": "02295a8a"
      },
      "outputs": [],
      "source": []
    },
    {
      "cell_type": "code",
      "execution_count": null,
      "id": "297b28bb",
      "metadata": {
        "id": "297b28bb"
      },
      "outputs": [],
      "source": []
    },
    {
      "cell_type": "code",
      "execution_count": null,
      "id": "4511baf8",
      "metadata": {
        "id": "4511baf8"
      },
      "outputs": [],
      "source": []
    },
    {
      "cell_type": "code",
      "execution_count": null,
      "id": "1d7d547d",
      "metadata": {
        "id": "1d7d547d"
      },
      "outputs": [],
      "source": []
    },
    {
      "cell_type": "code",
      "execution_count": null,
      "id": "9548c335",
      "metadata": {
        "id": "9548c335"
      },
      "outputs": [],
      "source": []
    },
    {
      "cell_type": "code",
      "execution_count": null,
      "id": "37e95cd0",
      "metadata": {
        "id": "37e95cd0"
      },
      "outputs": [],
      "source": []
    },
    {
      "cell_type": "code",
      "execution_count": null,
      "id": "a188fbe9",
      "metadata": {
        "id": "a188fbe9"
      },
      "outputs": [],
      "source": []
    }
  ],
  "metadata": {
    "kernelspec": {
      "display_name": "Python 3 (ipykernel)",
      "language": "python",
      "name": "python3"
    },
    "language_info": {
      "codemirror_mode": {
        "name": "ipython",
        "version": 3
      },
      "file_extension": ".py",
      "mimetype": "text/x-python",
      "name": "python",
      "nbconvert_exporter": "python",
      "pygments_lexer": "ipython3",
      "version": "3.9.12"
    },
    "colab": {
      "provenance": []
    }
  },
  "nbformat": 4,
  "nbformat_minor": 5
}